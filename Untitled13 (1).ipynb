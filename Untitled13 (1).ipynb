{
  "nbformat": 4,
  "nbformat_minor": 0,
  "metadata": {
    "colab": {
      "provenance": []
    },
    "kernelspec": {
      "name": "python3",
      "display_name": "Python 3"
    },
    "language_info": {
      "name": "python"
    }
  },
  "cells": [
    {
      "cell_type": "code",
      "execution_count": 1,
      "metadata": {
        "id": "aMdD8XdW8d27"
      },
      "outputs": [],
      "source": [
        "import torch\n",
        "import torch.nn as nn\n",
        "import torch.nn.functional as F\n",
        "from torch.utils.data import DataLoader\n",
        "from torchvision import datasets, transforms\n",
        "from torchvision.utils import make_grid\n",
        "\n",
        "import numpy as np\n",
        "import pandas as pd\n",
        "from sklearn.metrics import confusion_matrix\n",
        "import matplotlib.pyplot as plt"
      ]
    },
    {
      "cell_type": "code",
      "source": [
        "transform = transforms.ToTensor()"
      ],
      "metadata": {
        "id": "46QUDvlP8npZ"
      },
      "execution_count": 2,
      "outputs": []
    },
    {
      "cell_type": "code",
      "source": [
        "train_data = datasets.MNIST(root='../Data', train=True, download=True, transform=transform)"
      ],
      "metadata": {
        "colab": {
          "base_uri": "https://localhost:8080/"
        },
        "id": "icTaFZo289XB",
        "outputId": "dbe7111c-cb42-4ffd-808b-2fc1d74c0b54"
      },
      "execution_count": 3,
      "outputs": [
        {
          "output_type": "stream",
          "name": "stderr",
          "text": [
            "100%|██████████| 9.91M/9.91M [00:00<00:00, 76.5MB/s]\n",
            "100%|██████████| 28.9k/28.9k [00:00<00:00, 32.7MB/s]\n",
            "100%|██████████| 1.65M/1.65M [00:00<00:00, 58.1MB/s]\n",
            "100%|██████████| 4.54k/4.54k [00:00<00:00, 5.43MB/s]\n"
          ]
        }
      ]
    },
    {
      "cell_type": "code",
      "source": [
        "test_data = datasets.MNIST(root='../Data', train=False, download=True, transform=transform)\n"
      ],
      "metadata": {
        "id": "fS7zq76C9BPF"
      },
      "execution_count": 5,
      "outputs": []
    },
    {
      "cell_type": "code",
      "source": [
        "train_loader = DataLoader(train_data, batch_size=10, shuffle=True)\n",
        "test_loader = DataLoader(test_data, batch_size=10, shuffle=False)\n",
        ""
      ],
      "metadata": {
        "id": "FZqbU38D9A3_"
      },
      "execution_count": 6,
      "outputs": []
    },
    {
      "cell_type": "code",
      "source": [
        "for i, (X_train, y_train) in enumerate(train_data):\n",
        "    break\n",
        "\n"
      ],
      "metadata": {
        "id": "LfQ53vKC9MxG"
      },
      "execution_count": 7,
      "outputs": []
    },
    {
      "cell_type": "code",
      "source": [
        "x = X_train.view(1,1,28,28)"
      ],
      "metadata": {
        "id": "_0Hn2FwQ9QUy"
      },
      "execution_count": 8,
      "outputs": []
    },
    {
      "cell_type": "code",
      "source": [
        "class ConvolutionalNetwork(nn.Module):\n",
        "\n",
        "    def __init__(self):\n",
        "        super().__init__()\n",
        "        self.conv1 = nn.Conv2d(1,6,3,1)\n",
        "        self.conv2 = nn.Conv2d(6,16,3,1)\n",
        "        self.fc1 = nn.Linear(5*5*16,120)\n",
        "        self.fc2 = nn.Linear(120,84)\n",
        "        self.fc3 = nn.Linear(84,10)\n",
        "\n",
        "    def forward(self, X):\n",
        "        X = F.relu(self.conv1(X))\n",
        "        X = F.max_pool2d(X, 2, 2)\n",
        "        X = F.relu(self.conv2(X))\n",
        "        X = F.max_pool2d(X, 2, 2)\n",
        "        X = X.view(-1, 5*5*16)\n",
        "        X = F.relu(self.fc1(X))\n",
        "        X = F.relu(self.fc2(X))\n",
        "        X = self.fc3(X)\n",
        "        return F.log_softmax(X, dim=1)\n",
        ""
      ],
      "metadata": {
        "id": "ni7ut0YD9X06"
      },
      "execution_count": 9,
      "outputs": []
    },
    {
      "cell_type": "code",
      "source": [
        "torch.manual_seed(42)\n",
        "model = ConvolutionalNetwork()\n",
        "model"
      ],
      "metadata": {
        "colab": {
          "base_uri": "https://localhost:8080/"
        },
        "id": "OcSWbUTc9bPn",
        "outputId": "a085165b-4ea1-416c-c077-008ba887e020"
      },
      "execution_count": 10,
      "outputs": [
        {
          "output_type": "execute_result",
          "data": {
            "text/plain": [
              "ConvolutionalNetwork(\n",
              "  (conv1): Conv2d(1, 6, kernel_size=(3, 3), stride=(1, 1))\n",
              "  (conv2): Conv2d(6, 16, kernel_size=(3, 3), stride=(1, 1))\n",
              "  (fc1): Linear(in_features=400, out_features=120, bias=True)\n",
              "  (fc2): Linear(in_features=120, out_features=84, bias=True)\n",
              "  (fc3): Linear(in_features=84, out_features=10, bias=True)\n",
              ")"
            ]
          },
          "metadata": {},
          "execution_count": 10
        }
      ]
    },
    {
      "cell_type": "code",
      "source": [
        "criterion = nn.CrossEntropyLoss()\n",
        "optimizer = torch.optim.Adam(model.parameters(), lr=0.001)"
      ],
      "metadata": {
        "id": "EEn_04ul9fAD"
      },
      "execution_count": 12,
      "outputs": []
    },
    {
      "cell_type": "code",
      "source": [
        "import time\n",
        "start_time = time.time()\n",
        "\n",
        "# Variables ( Trackers)\n",
        "epochs = 5\n",
        "train_losses = []\n",
        "test_losses = []\n",
        "train_correct = []\n",
        "test_correct = []\n",
        "\n",
        "# for loop epochs\n",
        "for i in range(epochs):\n",
        "\n",
        "    trn_corr = 0\n",
        "    tst_corr = 0\n",
        "\n",
        "\n",
        "    # Run the training batches\n",
        "    for b, (X_train, y_train) in enumerate(train_loader):\n",
        "        b+=1\n",
        "\n",
        "        # Apply the model\n",
        "        y_pred = model(X_train)  # we not flatten X-train here\n",
        "        loss = criterion(y_pred, y_train)\n",
        "\n",
        "\n",
        "        predicted = torch.max(y_pred.data, 1)[1]\n",
        "        batch_corr = (predicted == y_train).sum()  # Trure 1 / False 0 sum()\n",
        "        trn_corr += batch_corr\n",
        "\n",
        "        # Update parameters\n",
        "        optimizer.zero_grad()\n",
        "        loss.backward()\n",
        "        optimizer.step()\n",
        "\n",
        "        # Print interim results\n",
        "        if b%600 == 0:\n",
        "            print(f'epoch: {i}  batch: {b} loss: {loss.item()}')\n",
        "\n",
        "    train_losses.append(loss)\n",
        "    train_correct.append(trn_corr)\n",
        "\n",
        "    # Run the testing batches\n",
        "    with torch.no_grad():\n",
        "        for b, (X_test, y_test) in enumerate(test_loader):\n",
        "\n",
        "            # Apply the model\n",
        "            y_val = model(X_test)\n",
        "\n",
        "            # Tally the number of correct predictions\n",
        "            predicted = torch.max(y_val.data, 1)[1]\n",
        "            tst_corr += (predicted == y_test).sum()\n",
        "\n",
        "    loss = criterion(y_val, y_test)\n",
        "    test_losses.append(loss)\n",
        "    test_correct.append(tst_corr)\n",
        "\n",
        "current_time = time.time()\n",
        "total = current_time - start_time\n",
        "print(f'Training took {total/60} minutes')"
      ],
      "metadata": {
        "colab": {
          "base_uri": "https://localhost:8080/"
        },
        "id": "_mzLMdMM9wWM",
        "outputId": "d49354b6-c4e9-4707-a620-808a96de3b7e"
      },
      "execution_count": 13,
      "outputs": [
        {
          "output_type": "stream",
          "name": "stdout",
          "text": [
            "epoch: 0  batch: 600 loss: 0.3487452566623688\n",
            "epoch: 0  batch: 1200 loss: 0.3392700254917145\n",
            "epoch: 0  batch: 1800 loss: 0.05834319442510605\n",
            "epoch: 0  batch: 2400 loss: 0.30306464433670044\n",
            "epoch: 0  batch: 3000 loss: 0.42641496658325195\n",
            "epoch: 0  batch: 3600 loss: 0.29310935735702515\n",
            "epoch: 0  batch: 4200 loss: 0.005706368945538998\n",
            "epoch: 0  batch: 4800 loss: 0.0162727739661932\n",
            "epoch: 0  batch: 5400 loss: 0.005438205320388079\n",
            "epoch: 0  batch: 6000 loss: 0.09244846552610397\n",
            "epoch: 1  batch: 600 loss: 0.3055875301361084\n",
            "epoch: 1  batch: 1200 loss: 0.011610833927989006\n",
            "epoch: 1  batch: 1800 loss: 0.0018449783092364669\n",
            "epoch: 1  batch: 2400 loss: 0.2553815543651581\n",
            "epoch: 1  batch: 3000 loss: 0.00178380380384624\n",
            "epoch: 1  batch: 3600 loss: 0.329987108707428\n",
            "epoch: 1  batch: 4200 loss: 0.0020090420730412006\n",
            "epoch: 1  batch: 4800 loss: 0.0369579941034317\n",
            "epoch: 1  batch: 5400 loss: 0.02474285662174225\n",
            "epoch: 1  batch: 6000 loss: 0.0051954942755401134\n",
            "epoch: 2  batch: 600 loss: 0.04184984788298607\n",
            "epoch: 2  batch: 1200 loss: 0.0010719005949795246\n",
            "epoch: 2  batch: 1800 loss: 9.518642036709934e-05\n",
            "epoch: 2  batch: 2400 loss: 0.005246178712695837\n",
            "epoch: 2  batch: 3000 loss: 0.008630851283669472\n",
            "epoch: 2  batch: 3600 loss: 0.0004633570497389883\n",
            "epoch: 2  batch: 4200 loss: 0.00030153762781992555\n",
            "epoch: 2  batch: 4800 loss: 0.02237231656908989\n",
            "epoch: 2  batch: 5400 loss: 8.648757648188621e-05\n",
            "epoch: 2  batch: 6000 loss: 0.009337040595710278\n",
            "epoch: 3  batch: 600 loss: 9.285481792176142e-05\n",
            "epoch: 3  batch: 1200 loss: 0.0038532200269401073\n",
            "epoch: 3  batch: 1800 loss: 0.0015158229507505894\n",
            "epoch: 3  batch: 2400 loss: 0.001378722139634192\n",
            "epoch: 3  batch: 3000 loss: 0.04198414832353592\n",
            "epoch: 3  batch: 3600 loss: 0.2862035632133484\n",
            "epoch: 3  batch: 4200 loss: 0.0007774822879582644\n",
            "epoch: 3  batch: 4800 loss: 5.5567314120708033e-05\n",
            "epoch: 3  batch: 5400 loss: 0.03252428397536278\n",
            "epoch: 3  batch: 6000 loss: 0.0051782517693936825\n",
            "epoch: 4  batch: 600 loss: 0.0031685796566307545\n",
            "epoch: 4  batch: 1200 loss: 0.00044798091403208673\n",
            "epoch: 4  batch: 1800 loss: 0.159053236246109\n",
            "epoch: 4  batch: 2400 loss: 0.011177925392985344\n",
            "epoch: 4  batch: 3000 loss: 0.012854021973907948\n",
            "epoch: 4  batch: 3600 loss: 0.0035226407926529646\n",
            "epoch: 4  batch: 4200 loss: 0.0006024215254001319\n",
            "epoch: 4  batch: 4800 loss: 0.004336145240813494\n",
            "epoch: 4  batch: 5400 loss: 5.15283209097106e-05\n",
            "epoch: 4  batch: 6000 loss: 0.08058684319257736\n",
            "Training took 3.570606525739034 minutes\n"
          ]
        }
      ]
    },
    {
      "cell_type": "code",
      "source": [
        "train_losses = [t.detach().numpy() for t in train_losses]\n",
        "test_losses = [t.detach().numpy() for t in test_losses]\n",
        "\n",
        "plt.plot(train_losses, label='training loss')\n",
        "plt.plot(test_losses, label='validation loss')\n",
        "plt.title('Loss at the end of each epoch')\n",
        "plt.legend();\n",
        "plt.show()"
      ],
      "metadata": {
        "colab": {
          "base_uri": "https://localhost:8080/",
          "height": 452
        },
        "id": "jgeQANUy95tP",
        "outputId": "483ea884-0951-4044-bf78-6fa8e111b1f4"
      },
      "execution_count": 14,
      "outputs": [
        {
          "output_type": "display_data",
          "data": {
            "text/plain": [
              "<Figure size 640x480 with 1 Axes>"
            ],
            "image/png": "[encoded data removed]"
          },
          "metadata": {}
        }
      ]
    },
    {
      "cell_type": "code",
      "source": [
        "plt.plot([t/600 for t in train_correct], label='training accuracy')\n",
        "plt.plot([t/100 for t in test_correct], label='validation accuracy')\n",
        "plt.title('Accuracy at the end of each epoch')\n",
        "plt.legend();\n",
        "plt.show()"
      ],
      "metadata": {
        "colab": {
          "base_uri": "https://localhost:8080/",
          "height": 452
        },
        "id": "BpcX5cFV-nZT",
        "outputId": "526cee50-fa8a-4cf9-aaff-9a28f4946558"
      },
      "execution_count": 15,
      "outputs": [
        {
          "output_type": "display_data",
          "data": {
            "text/plain": [
              "<Figure size 640x480 with 1 Axes>"
            ],
            "image/png": "[encoded data removed]"
          },
          "metadata": {}
        }
      ]
    },
    {
      "cell_type": "code",
      "source": [
        "test_load_all = DataLoader(test_data, batch_size=10000, shuffle=False)"
      ],
      "metadata": {
        "id": "5jeuPBDc-qvn"
      },
      "execution_count": 16,
      "outputs": []
    },
    {
      "cell_type": "code",
      "source": [
        "with torch.no_grad():\n",
        "    correct = 0\n",
        "    for X_test, y_test in test_load_all:\n",
        "        y_val = model(X_test)  # we don't flatten the data this time\n",
        "        predicted = torch.max(y_val,1)[1]\n",
        "        correct += (predicted == y_test).sum()"
      ],
      "metadata": {
        "id": "fKToyJ_N-uyc"
      },
      "execution_count": 17,
      "outputs": []
    },
    {
      "cell_type": "code",
      "source": [
        "correct.item()\n",
        ""
      ],
      "metadata": {
        "colab": {
          "base_uri": "https://localhost:8080/"
        },
        "id": "ENm1wOfk-xuk",
        "outputId": "08290e02-2287-48b2-ab5e-05e8b6294350"
      },
      "execution_count": 18,
      "outputs": [
        {
          "output_type": "execute_result",
          "data": {
            "text/plain": [
              "9882"
            ]
          },
          "metadata": {},
          "execution_count": 18
        }
      ]
    },
    {
      "cell_type": "code",
      "source": [
        "correct.item()/len(test_data)\n",
        ""
      ],
      "metadata": {
        "colab": {
          "base_uri": "https://localhost:8080/"
        },
        "id": "BErkJWR2-00g",
        "outputId": "c7ae0818-71f0-4b28-d2d2-ba1703df4792"
      },
      "execution_count": 19,
      "outputs": [
        {
          "output_type": "execute_result",
          "data": {
            "text/plain": [
              "0.9882"
            ]
          },
          "metadata": {},
          "execution_count": 19
        }
      ]
    },
    {
      "cell_type": "code",
      "source": [
        "np.set_printoptions(formatter=dict(int=lambda x: f'{x:4}'))\n",
        "print(np.arange(10).reshape(1,10))\n",
        "print()\n",
        "\n",
        "# print the confusion matrix\n",
        "print(confusion_matrix(predicted.view(-1), y_test.view(-1)))\n"
      ],
      "metadata": {
        "colab": {
          "base_uri": "https://localhost:8080/"
        },
        "id": "v4fujfwV-7lA",
        "outputId": "9e09aa00-3bcc-4b8b-aa4d-b5a4027c0e2d"
      },
      "execution_count": 20,
      "outputs": [
        {
          "output_type": "stream",
          "name": "stdout",
          "text": [
            "[[   0    1    2    3    4    5    6    7    8    9]]\n",
            "\n",
            "[[ 976    1    0    0    0    2    3    0    3    2]\n",
            " [   0 1119    0    0    0    0    1    1    0    0]\n",
            " [   0    2 1025    3    0    0    0    8    1    1]\n",
            " [   0    2    0 1000    1    5    0    1    0    4]\n",
            " [   0    0    0    0  960    0    1    0    0    1]\n",
            " [   0    1    0    3    0  882    3    0    2    4]\n",
            " [   2    7    1    0    8    2  950    0    0    0]\n",
            " [   2    2    4    1    0    1    0 1011    0    2]\n",
            " [   0    1    2    3    0    0    0    2  967    3]\n",
            " [   0    0    0    0   13    0    0    5    1  992]]\n"
          ]
        }
      ]
    },
    {
      "cell_type": "code",
      "source": [
        "plt.imshow(test_data[2000][0].reshape(28,28))\n",
        "plt.show()\n",
        "\n"
      ],
      "metadata": {
        "colab": {
          "base_uri": "https://localhost:8080/",
          "height": 430
        },
        "id": "AYKr0ja8_A5C",
        "outputId": "321c9b38-5dcc-47e3-85ec-c0b5cc0c3ab0"
      },
      "execution_count": 21,
      "outputs": [
        {
          "output_type": "display_data",
          "data": {
            "text/plain": [
              "<Figure size 640x480 with 1 Axes>"
            ],
            "image/png": "[encoded data removed]"
          },
          "metadata": {}
        }
      ]
    },
    {
      "cell_type": "code",
      "source": [
        "model.eval()\n",
        "with torch.no_grad():\n",
        "    new_prediction = model(test_data[2000][0].view(1,1,28,28))"
      ],
      "metadata": {
        "id": "EMKFNhK7_E4N"
      },
      "execution_count": 22,
      "outputs": []
    },
    {
      "cell_type": "code",
      "source": [
        "new_prediction.argmax()\n"
      ],
      "metadata": {
        "colab": {
          "base_uri": "https://localhost:8080/"
        },
        "id": "SPxt3y83_I96",
        "outputId": "74bd286d-f5d4-450b-dba2-92393deb6bae"
      },
      "execution_count": 24,
      "outputs": [
        {
          "output_type": "execute_result",
          "data": {
            "text/plain": [
              "tensor(6)"
            ]
          },
          "metadata": {},
          "execution_count": 24
        }
      ]
    },
    {
      "cell_type": "code",
      "source": [
        "test_data[2000][1]\n",
        ""
      ],
      "metadata": {
        "colab": {
          "base_uri": "https://localhost:8080/"
        },
        "id": "DsTUJti7_Pvf",
        "outputId": "ed4f1d6b-c6f7-4a2a-acc9-89a76ac9c577"
      },
      "execution_count": 23,
      "outputs": [
        {
          "output_type": "execute_result",
          "data": {
            "text/plain": [
              "6"
            ]
          },
          "metadata": {},
          "execution_count": 23
        }
      ]
    },
    {
      "cell_type": "code",
      "source": [
        "torch.save(model.state_dict(), 'N.Bharath_ex-3.pt')\n",
        "\n",
        "\n",
        "new_model = ConvolutionalNetwork() # Replace Model with ConvolutionalNetwork\n",
        "new_model.load_state_dict(torch.load('N.Bharath_ex-3.pt'))\n",
        "new_model.eval()"
      ],
      "metadata": {
        "colab": {
          "base_uri": "https://localhost:8080/"
        },
        "id": "sQ7LYyXv_WpS",
        "outputId": "1f378f13-68e4-41fa-c604-25b5f4b5b293"
      },
      "execution_count": 26,
      "outputs": [
        {
          "output_type": "execute_result",
          "data": {
            "text/plain": [
              "ConvolutionalNetwork(\n",
              "  (conv1): Conv2d(1, 6, kernel_size=(3, 3), stride=(1, 1))\n",
              "  (conv2): Conv2d(6, 16, kernel_size=(3, 3), stride=(1, 1))\n",
              "  (fc1): Linear(in_features=400, out_features=120, bias=True)\n",
              "  (fc2): Linear(in_features=120, out_features=84, bias=True)\n",
              "  (fc3): Linear(in_features=84, out_features=10, bias=True)\n",
              ")"
            ]
          },
          "metadata": {},
          "execution_count": 26
        }
      ]
    }
  ]
}